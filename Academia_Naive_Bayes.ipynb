{
 "cells": [
  {
   "cell_type": "code",
   "execution_count": 1,
   "metadata": {},
   "outputs": [],
   "source": [
    "#IMPORTAÇÕES\n",
    "import pandas as pd\n",
    "import numpy as np\n",
    "#import seaborn as sns\n",
    "#import matplotlib as plt\n",
    "#%matplotlib inline"
   ]
  },
  {
   "cell_type": "code",
   "execution_count": 2,
   "metadata": {},
   "outputs": [],
   "source": [
    "#caso trate horário\n",
    "#import locale\n",
    "#locale.setlocale(locale.LC_ALL, 'pt-BR') \n",
    "#import datetime"
   ]
  },
  {
   "cell_type": "code",
   "execution_count": 2,
   "metadata": {},
   "outputs": [],
   "source": [
    "gym = pd.read_csv('academia.csv')"
   ]
  },
  {
   "cell_type": "code",
   "execution_count": 131,
   "metadata": {},
   "outputs": [
    {
     "data": {
      "text/html": [
       "<div>\n",
       "<style scoped>\n",
       "    .dataframe tbody tr th:only-of-type {\n",
       "        vertical-align: middle;\n",
       "    }\n",
       "\n",
       "    .dataframe tbody tr th {\n",
       "        vertical-align: top;\n",
       "    }\n",
       "\n",
       "    .dataframe thead th {\n",
       "        text-align: right;\n",
       "    }\n",
       "</style>\n",
       "<table border=\"1\" class=\"dataframe\">\n",
       "  <thead>\n",
       "    <tr style=\"text-align: right;\">\n",
       "      <th></th>\n",
       "      <th>number_people</th>\n",
       "      <th>date</th>\n",
       "      <th>timestamp</th>\n",
       "      <th>day_of_week</th>\n",
       "      <th>is_weekend</th>\n",
       "      <th>is_holiday</th>\n",
       "      <th>temperature</th>\n",
       "      <th>is_start_of_semester</th>\n",
       "      <th>is_during_semester</th>\n",
       "      <th>month</th>\n",
       "      <th>hour</th>\n",
       "    </tr>\n",
       "  </thead>\n",
       "  <tbody>\n",
       "    <tr>\n",
       "      <th>62181</th>\n",
       "      <td>25</td>\n",
       "      <td>2017-03-18 19:02:40-07:00</td>\n",
       "      <td>68560</td>\n",
       "      <td>5</td>\n",
       "      <td>1</td>\n",
       "      <td>0</td>\n",
       "      <td>56.71</td>\n",
       "      <td>0</td>\n",
       "      <td>1</td>\n",
       "      <td>3</td>\n",
       "      <td>19</td>\n",
       "    </tr>\n",
       "    <tr>\n",
       "      <th>62182</th>\n",
       "      <td>18</td>\n",
       "      <td>2017-03-18 19:12:47-07:00</td>\n",
       "      <td>69167</td>\n",
       "      <td>5</td>\n",
       "      <td>1</td>\n",
       "      <td>0</td>\n",
       "      <td>56.71</td>\n",
       "      <td>0</td>\n",
       "      <td>1</td>\n",
       "      <td>3</td>\n",
       "      <td>19</td>\n",
       "    </tr>\n",
       "    <tr>\n",
       "      <th>62183</th>\n",
       "      <td>23</td>\n",
       "      <td>2017-03-18 19:22:51-07:00</td>\n",
       "      <td>69771</td>\n",
       "      <td>5</td>\n",
       "      <td>1</td>\n",
       "      <td>0</td>\n",
       "      <td>56.71</td>\n",
       "      <td>0</td>\n",
       "      <td>1</td>\n",
       "      <td>3</td>\n",
       "      <td>19</td>\n",
       "    </tr>\n",
       "  </tbody>\n",
       "</table>\n",
       "</div>"
      ],
      "text/plain": [
       "       number_people                       date  timestamp  day_of_week  \\\n",
       "62181             25  2017-03-18 19:02:40-07:00      68560            5   \n",
       "62182             18  2017-03-18 19:12:47-07:00      69167            5   \n",
       "62183             23  2017-03-18 19:22:51-07:00      69771            5   \n",
       "\n",
       "       is_weekend  is_holiday  temperature  is_start_of_semester  \\\n",
       "62181           1           0        56.71                     0   \n",
       "62182           1           0        56.71                     0   \n",
       "62183           1           0        56.71                     0   \n",
       "\n",
       "       is_during_semester  month  hour  \n",
       "62181                   1      3    19  \n",
       "62182                   1      3    19  \n",
       "62183                   1      3    19  "
      ]
     },
     "execution_count": 131,
     "metadata": {},
     "output_type": "execute_result"
    }
   ],
   "source": [
    "gym.tail(3)"
   ]
  },
  {
   "cell_type": "code",
   "execution_count": 3,
   "metadata": {},
   "outputs": [],
   "source": [
    "#convertendo a temperatura para Celsios\n",
    "gym['temperature'] = round((gym['temperature']-32)/1.8,2)"
   ]
  },
  {
   "cell_type": "code",
   "execution_count": 133,
   "metadata": {},
   "outputs": [
    {
     "name": "stdout",
     "output_type": "stream",
     "text": [
      "<class 'pandas.core.frame.DataFrame'>\n",
      "RangeIndex: 62184 entries, 0 to 62183\n",
      "Data columns (total 11 columns):\n",
      " #   Column                Non-Null Count  Dtype  \n",
      "---  ------                --------------  -----  \n",
      " 0   number_people         62184 non-null  int64  \n",
      " 1   date                  62184 non-null  object \n",
      " 2   timestamp             62184 non-null  int64  \n",
      " 3   day_of_week           62184 non-null  int64  \n",
      " 4   is_weekend            62184 non-null  int64  \n",
      " 5   is_holiday            62184 non-null  int64  \n",
      " 6   temperature           62184 non-null  float64\n",
      " 7   is_start_of_semester  62184 non-null  int64  \n",
      " 8   is_during_semester    62184 non-null  int64  \n",
      " 9   month                 62184 non-null  int64  \n",
      " 10  hour                  62184 non-null  int64  \n",
      "dtypes: float64(1), int64(9), object(1)\n",
      "memory usage: 5.2+ MB\n"
     ]
    }
   ],
   "source": [
    "gym.info()"
   ]
  },
  {
   "cell_type": "code",
   "execution_count": 158,
   "metadata": {},
   "outputs": [
    {
     "data": {
      "text/plain": [
       "28"
      ]
     },
     "execution_count": 158,
     "metadata": {},
     "output_type": "execute_result"
    }
   ],
   "source": [
    "#percentil50=np.percentile(gym['number_people'],50)\n",
    "#round(percentil50)"
   ]
  },
  {
   "cell_type": "code",
   "execution_count": 159,
   "metadata": {},
   "outputs": [
    {
     "data": {
      "text/plain": [
       "40"
      ]
     },
     "execution_count": 159,
     "metadata": {},
     "output_type": "execute_result"
    }
   ],
   "source": [
    "#percentil70=np.percentile(gym['number_people'],70)\n",
    "#round(percentil70)"
   ]
  },
  {
   "cell_type": "code",
   "execution_count": 4,
   "metadata": {},
   "outputs": [
    {
     "data": {
      "text/plain": [
       "33"
      ]
     },
     "execution_count": 4,
     "metadata": {},
     "output_type": "execute_result"
    }
   ],
   "source": [
    "#SEGUNDA POSSIBILIDADE DE VARIÁVEL PARA TARGET\n",
    "percentil60 = round(np.percentile(gym['number_people'],60))\n",
    "percentil60"
   ]
  },
  {
   "cell_type": "code",
   "execution_count": 136,
   "metadata": {},
   "outputs": [
    {
     "data": {
      "text/html": [
       "<div>\n",
       "<style scoped>\n",
       "    .dataframe tbody tr th:only-of-type {\n",
       "        vertical-align: middle;\n",
       "    }\n",
       "\n",
       "    .dataframe tbody tr th {\n",
       "        vertical-align: top;\n",
       "    }\n",
       "\n",
       "    .dataframe thead th {\n",
       "        text-align: right;\n",
       "    }\n",
       "</style>\n",
       "<table border=\"1\" class=\"dataframe\">\n",
       "  <thead>\n",
       "    <tr style=\"text-align: right;\">\n",
       "      <th></th>\n",
       "      <th>number_people</th>\n",
       "      <th>temperature</th>\n",
       "    </tr>\n",
       "    <tr>\n",
       "      <th>hour</th>\n",
       "      <th></th>\n",
       "      <th></th>\n",
       "    </tr>\n",
       "  </thead>\n",
       "  <tbody>\n",
       "    <tr>\n",
       "      <th>18</th>\n",
       "      <td>48.297850</td>\n",
       "      <td>15.568431</td>\n",
       "    </tr>\n",
       "    <tr>\n",
       "      <th>17</th>\n",
       "      <td>47.637582</td>\n",
       "      <td>16.207771</td>\n",
       "    </tr>\n",
       "    <tr>\n",
       "      <th>19</th>\n",
       "      <td>44.741043</td>\n",
       "      <td>15.057361</td>\n",
       "    </tr>\n",
       "    <tr>\n",
       "      <th>16</th>\n",
       "      <td>42.959402</td>\n",
       "      <td>16.592518</td>\n",
       "    </tr>\n",
       "    <tr>\n",
       "      <th>21</th>\n",
       "      <td>42.922634</td>\n",
       "      <td>14.440410</td>\n",
       "    </tr>\n",
       "    <tr>\n",
       "      <th>20</th>\n",
       "      <td>41.669767</td>\n",
       "      <td>14.713352</td>\n",
       "    </tr>\n",
       "    <tr>\n",
       "      <th>22</th>\n",
       "      <td>40.463784</td>\n",
       "      <td>14.133222</td>\n",
       "    </tr>\n",
       "    <tr>\n",
       "      <th>15</th>\n",
       "      <td>37.197624</td>\n",
       "      <td>16.854204</td>\n",
       "    </tr>\n",
       "    <tr>\n",
       "      <th>11</th>\n",
       "      <td>36.219635</td>\n",
       "      <td>15.604196</td>\n",
       "    </tr>\n",
       "    <tr>\n",
       "      <th>12</th>\n",
       "      <td>36.110517</td>\n",
       "      <td>16.232635</td>\n",
       "    </tr>\n",
       "  </tbody>\n",
       "</table>\n",
       "</div>"
      ],
      "text/plain": [
       "      number_people  temperature\n",
       "hour                            \n",
       "18        48.297850    15.568431\n",
       "17        47.637582    16.207771\n",
       "19        44.741043    15.057361\n",
       "16        42.959402    16.592518\n",
       "21        42.922634    14.440410\n",
       "20        41.669767    14.713352\n",
       "22        40.463784    14.133222\n",
       "15        37.197624    16.854204\n",
       "11        36.219635    15.604196\n",
       "12        36.110517    16.232635"
      ]
     },
     "execution_count": 136,
     "metadata": {},
     "output_type": "execute_result"
    }
   ],
   "source": [
    "gym[['hour', 'number_people','temperature']].groupby(['hour'])\\\n",
    ".mean().sort_values(by='number_people', ascending=False).head(10)"
   ]
  },
  {
   "cell_type": "code",
   "execution_count": 5,
   "metadata": {},
   "outputs": [],
   "source": [
    "# Criando Target /\n",
    "# Coluna: <= percentil50 : Vazia / menor ou igual percentil 70 : MeioCheia / maior que percentil 70: cheia\n",
    "\n",
    "gym['target'] = 'Cheia'"
   ]
  },
  {
   "cell_type": "code",
   "execution_count": 161,
   "metadata": {},
   "outputs": [],
   "source": [
    "#for idx, _ in gym.iterrows():\n",
    "#    if gym['number_people'].at[idx] <=percentil50:\n",
    "#        gym['target'].at[idx] = \"Vazia\"\n",
    "#    elif gym['number_people'].at[idx] <=percentil70 and gym['number_people'].at[idx] > percentil50: \n",
    "#        gym['target'].at[idx] = \"Meio_cheia\""
   ]
  },
  {
   "cell_type": "code",
   "execution_count": 6,
   "metadata": {},
   "outputs": [],
   "source": [
    "# SEGUNDA POSSIBILIDADE DE TARGET\n",
    "for idx, _ in gym.iterrows():\n",
    "    if gym['number_people'].at[idx] <= percentil60:\n",
    "        gym['target'].at[idx] = \"Vazia\""
   ]
  },
  {
   "cell_type": "code",
   "execution_count": 7,
   "metadata": {},
   "outputs": [
    {
     "data": {
      "text/html": [
       "<div>\n",
       "<style scoped>\n",
       "    .dataframe tbody tr th:only-of-type {\n",
       "        vertical-align: middle;\n",
       "    }\n",
       "\n",
       "    .dataframe tbody tr th {\n",
       "        vertical-align: top;\n",
       "    }\n",
       "\n",
       "    .dataframe thead th {\n",
       "        text-align: right;\n",
       "    }\n",
       "</style>\n",
       "<table border=\"1\" class=\"dataframe\">\n",
       "  <thead>\n",
       "    <tr style=\"text-align: right;\">\n",
       "      <th></th>\n",
       "      <th>number_people</th>\n",
       "      <th>day_of_week</th>\n",
       "      <th>temperature</th>\n",
       "      <th>month</th>\n",
       "      <th>hour</th>\n",
       "      <th>target</th>\n",
       "    </tr>\n",
       "  </thead>\n",
       "  <tbody>\n",
       "    <tr>\n",
       "      <th>0</th>\n",
       "      <td>37</td>\n",
       "      <td>4</td>\n",
       "      <td>22.09</td>\n",
       "      <td>8</td>\n",
       "      <td>17</td>\n",
       "      <td>Cheia</td>\n",
       "    </tr>\n",
       "    <tr>\n",
       "      <th>1</th>\n",
       "      <td>45</td>\n",
       "      <td>4</td>\n",
       "      <td>22.09</td>\n",
       "      <td>8</td>\n",
       "      <td>17</td>\n",
       "      <td>Cheia</td>\n",
       "    </tr>\n",
       "    <tr>\n",
       "      <th>2</th>\n",
       "      <td>40</td>\n",
       "      <td>4</td>\n",
       "      <td>22.09</td>\n",
       "      <td>8</td>\n",
       "      <td>17</td>\n",
       "      <td>Cheia</td>\n",
       "    </tr>\n",
       "    <tr>\n",
       "      <th>3</th>\n",
       "      <td>44</td>\n",
       "      <td>4</td>\n",
       "      <td>22.09</td>\n",
       "      <td>8</td>\n",
       "      <td>17</td>\n",
       "      <td>Cheia</td>\n",
       "    </tr>\n",
       "    <tr>\n",
       "      <th>4</th>\n",
       "      <td>45</td>\n",
       "      <td>4</td>\n",
       "      <td>22.09</td>\n",
       "      <td>8</td>\n",
       "      <td>17</td>\n",
       "      <td>Cheia</td>\n",
       "    </tr>\n",
       "    <tr>\n",
       "      <th>...</th>\n",
       "      <td>...</td>\n",
       "      <td>...</td>\n",
       "      <td>...</td>\n",
       "      <td>...</td>\n",
       "      <td>...</td>\n",
       "      <td>...</td>\n",
       "    </tr>\n",
       "    <tr>\n",
       "      <th>62179</th>\n",
       "      <td>23</td>\n",
       "      <td>5</td>\n",
       "      <td>16.15</td>\n",
       "      <td>3</td>\n",
       "      <td>18</td>\n",
       "      <td>Vazia</td>\n",
       "    </tr>\n",
       "    <tr>\n",
       "      <th>62180</th>\n",
       "      <td>21</td>\n",
       "      <td>5</td>\n",
       "      <td>16.15</td>\n",
       "      <td>3</td>\n",
       "      <td>18</td>\n",
       "      <td>Vazia</td>\n",
       "    </tr>\n",
       "    <tr>\n",
       "      <th>62181</th>\n",
       "      <td>25</td>\n",
       "      <td>5</td>\n",
       "      <td>13.73</td>\n",
       "      <td>3</td>\n",
       "      <td>19</td>\n",
       "      <td>Vazia</td>\n",
       "    </tr>\n",
       "    <tr>\n",
       "      <th>62182</th>\n",
       "      <td>18</td>\n",
       "      <td>5</td>\n",
       "      <td>13.73</td>\n",
       "      <td>3</td>\n",
       "      <td>19</td>\n",
       "      <td>Vazia</td>\n",
       "    </tr>\n",
       "    <tr>\n",
       "      <th>62183</th>\n",
       "      <td>23</td>\n",
       "      <td>5</td>\n",
       "      <td>13.73</td>\n",
       "      <td>3</td>\n",
       "      <td>19</td>\n",
       "      <td>Vazia</td>\n",
       "    </tr>\n",
       "  </tbody>\n",
       "</table>\n",
       "<p>62184 rows × 6 columns</p>\n",
       "</div>"
      ],
      "text/plain": [
       "       number_people  day_of_week  temperature  month  hour target\n",
       "0                 37            4        22.09      8    17  Cheia\n",
       "1                 45            4        22.09      8    17  Cheia\n",
       "2                 40            4        22.09      8    17  Cheia\n",
       "3                 44            4        22.09      8    17  Cheia\n",
       "4                 45            4        22.09      8    17  Cheia\n",
       "...              ...          ...          ...    ...   ...    ...\n",
       "62179             23            5        16.15      3    18  Vazia\n",
       "62180             21            5        16.15      3    18  Vazia\n",
       "62181             25            5        13.73      3    19  Vazia\n",
       "62182             18            5        13.73      3    19  Vazia\n",
       "62183             23            5        13.73      3    19  Vazia\n",
       "\n",
       "[62184 rows x 6 columns]"
      ]
     },
     "execution_count": 7,
     "metadata": {},
     "output_type": "execute_result"
    }
   ],
   "source": [
    "gym = gym.drop(columns=['date','is_weekend','is_holiday','is_start_of_semester','is_during_semester','timestamp'])\n",
    "gym"
   ]
  },
  {
   "cell_type": "code",
   "execution_count": 8,
   "metadata": {},
   "outputs": [
    {
     "data": {
      "text/html": [
       "<div>\n",
       "<style scoped>\n",
       "    .dataframe tbody tr th:only-of-type {\n",
       "        vertical-align: middle;\n",
       "    }\n",
       "\n",
       "    .dataframe tbody tr th {\n",
       "        vertical-align: top;\n",
       "    }\n",
       "\n",
       "    .dataframe thead th {\n",
       "        text-align: right;\n",
       "    }\n",
       "</style>\n",
       "<table border=\"1\" class=\"dataframe\">\n",
       "  <thead>\n",
       "    <tr style=\"text-align: right;\">\n",
       "      <th></th>\n",
       "      <th>number_people</th>\n",
       "      <th>day_of_week</th>\n",
       "      <th>temperature</th>\n",
       "      <th>month</th>\n",
       "      <th>hour</th>\n",
       "      <th>target</th>\n",
       "    </tr>\n",
       "  </thead>\n",
       "  <tbody>\n",
       "    <tr>\n",
       "      <th>0</th>\n",
       "      <td>37</td>\n",
       "      <td>4</td>\n",
       "      <td>22.0</td>\n",
       "      <td>8</td>\n",
       "      <td>17</td>\n",
       "      <td>Cheia</td>\n",
       "    </tr>\n",
       "    <tr>\n",
       "      <th>1</th>\n",
       "      <td>45</td>\n",
       "      <td>4</td>\n",
       "      <td>22.0</td>\n",
       "      <td>8</td>\n",
       "      <td>17</td>\n",
       "      <td>Cheia</td>\n",
       "    </tr>\n",
       "    <tr>\n",
       "      <th>2</th>\n",
       "      <td>40</td>\n",
       "      <td>4</td>\n",
       "      <td>22.0</td>\n",
       "      <td>8</td>\n",
       "      <td>17</td>\n",
       "      <td>Cheia</td>\n",
       "    </tr>\n",
       "  </tbody>\n",
       "</table>\n",
       "</div>"
      ],
      "text/plain": [
       "   number_people  day_of_week  temperature  month  hour target\n",
       "0             37            4         22.0      8    17  Cheia\n",
       "1             45            4         22.0      8    17  Cheia\n",
       "2             40            4         22.0      8    17  Cheia"
      ]
     },
     "execution_count": 8,
     "metadata": {},
     "output_type": "execute_result"
    }
   ],
   "source": [
    "gym['temperature'] = round(gym['temperature'])\n",
    "gym.head(3)"
   ]
  },
  {
   "cell_type": "code",
   "execution_count": 142,
   "metadata": {},
   "outputs": [],
   "source": [
    "#gym['day_of_week'] = gym['day_of_week'].astype(str)\n",
    "#gym['day_of_week'] = gym['day_of_week'].map({'0':'Seg','1':'Ter','2':'Qua','3':'Qui','4':'Sex','5':'Sab','6':'Dom'},na_action=None)\n",
    "#gym.head(3)"
   ]
  },
  {
   "cell_type": "code",
   "execution_count": 9,
   "metadata": {},
   "outputs": [],
   "source": [
    "gym['day_of_week'] = gym['day_of_week'].astype('category')\n",
    "gym['month'] = gym['month'].astype('category')\n",
    "gym['hour'] = gym['hour'].astype('category')\n",
    "gym['temperature'] = gym['temperature'].astype('category')\n",
    "gym['target'] = gym['target'].astype('category')"
   ]
  },
  {
   "cell_type": "code",
   "execution_count": 10,
   "metadata": {},
   "outputs": [
    {
     "name": "stdout",
     "output_type": "stream",
     "text": [
      "<class 'pandas.core.frame.DataFrame'>\n",
      "RangeIndex: 62184 entries, 0 to 62183\n",
      "Data columns (total 6 columns):\n",
      " #   Column         Non-Null Count  Dtype   \n",
      "---  ------         --------------  -----   \n",
      " 0   number_people  62184 non-null  int64   \n",
      " 1   day_of_week    62184 non-null  category\n",
      " 2   temperature    62184 non-null  category\n",
      " 3   month          62184 non-null  category\n",
      " 4   hour           62184 non-null  category\n",
      " 5   target         62184 non-null  category\n",
      "dtypes: category(5), int64(1)\n",
      "memory usage: 792.7 KB\n"
     ]
    }
   ],
   "source": [
    "gym.info()"
   ]
  },
  {
   "cell_type": "code",
   "execution_count": 11,
   "metadata": {},
   "outputs": [
    {
     "data": {
      "text/plain": [
       "Vazia    37550\n",
       "Cheia    24634\n",
       "Name: target, dtype: int64"
      ]
     },
     "execution_count": 11,
     "metadata": {},
     "output_type": "execute_result"
    }
   ],
   "source": [
    "gym['target'].value_counts()"
   ]
  },
  {
   "cell_type": "code",
   "execution_count": 197,
   "metadata": {},
   "outputs": [],
   "source": [
    "# primeiro desconsiderar dados sem pessoas\n",
    "#gym = gym[(gym['number_people'] > 0)]"
   ]
  },
  {
   "cell_type": "code",
   "execution_count": 198,
   "metadata": {},
   "outputs": [
    {
     "data": {
      "text/plain": [
       "Vazia    28775\n",
       "Cheia    24634\n",
       "Name: target, dtype: int64"
      ]
     },
     "execution_count": 198,
     "metadata": {},
     "output_type": "execute_result"
    }
   ],
   "source": [
    "#gym['target'].value_counts()"
   ]
  },
  {
   "cell_type": "code",
   "execution_count": 13,
   "metadata": {},
   "outputs": [],
   "source": [
    "gym = gym.drop(columns=['number_people'])"
   ]
  },
  {
   "cell_type": "markdown",
   "metadata": {},
   "source": [
    "## ML - Naive Bayes"
   ]
  },
  {
   "cell_type": "code",
   "execution_count": 14,
   "metadata": {},
   "outputs": [],
   "source": [
    "from sklearn.naive_bayes import GaussianNB\n",
    "from sklearn.model_selection import train_test_split"
   ]
  },
  {
   "cell_type": "code",
   "execution_count": 15,
   "metadata": {},
   "outputs": [],
   "source": [
    "X = gym.drop(columns='target')\n",
    "y = gym.target\n",
    "X_train, X_test, y_train, y_test = train_test_split(X, y, test_size=0.20, random_state=5)"
   ]
  },
  {
   "cell_type": "code",
   "execution_count": 16,
   "metadata": {},
   "outputs": [],
   "source": [
    "modelo = GaussianNB()"
   ]
  },
  {
   "cell_type": "code",
   "execution_count": 17,
   "metadata": {},
   "outputs": [
    {
     "data": {
      "text/plain": [
       "((49747, 4), (49747,))"
      ]
     },
     "execution_count": 17,
     "metadata": {},
     "output_type": "execute_result"
    }
   ],
   "source": [
    "X_train.shape, y_train.shape"
   ]
  },
  {
   "cell_type": "code",
   "execution_count": 18,
   "metadata": {},
   "outputs": [
    {
     "data": {
      "text/plain": [
       "((12437, 4), (12437,))"
      ]
     },
     "execution_count": 18,
     "metadata": {},
     "output_type": "execute_result"
    }
   ],
   "source": [
    "X_test.shape, y_test.shape"
   ]
  },
  {
   "cell_type": "code",
   "execution_count": 19,
   "metadata": {},
   "outputs": [
    {
     "name": "stdout",
     "output_type": "stream",
     "text": [
      "Acurácia: 0.7357883734019458\n"
     ]
    }
   ],
   "source": [
    "modelo.fit(X_train, y_train)\n",
    "resultado = modelo.score(X_test, y_test)\n",
    "print(f'Acurácia: {resultado}')"
   ]
  },
  {
   "cell_type": "code",
   "execution_count": 20,
   "metadata": {},
   "outputs": [
    {
     "name": "stdout",
     "output_type": "stream",
     "text": [
      "['Vazia' 'Vazia' 'Cheia' ... 'Cheia' 'Vazia' 'Vazia']\n"
     ]
    }
   ],
   "source": [
    "predicted= modelo.predict(X_test)\n",
    "print(predicted)"
   ]
  },
  {
   "cell_type": "code",
   "execution_count": 21,
   "metadata": {},
   "outputs": [
    {
     "name": "stdout",
     "output_type": "stream",
     "text": [
      "[[3466 1447]\n",
      " [1839 5685]]\n"
     ]
    }
   ],
   "source": [
    "from sklearn.metrics import confusion_matrix\n",
    "print(confusion_matrix(y_test, predicted))# Accuracy"
   ]
  },
  {
   "cell_type": "code",
   "execution_count": 22,
   "metadata": {},
   "outputs": [
    {
     "data": {
      "text/plain": [
       "array([0.70547527, 0.75558214])"
      ]
     },
     "execution_count": 22,
     "metadata": {},
     "output_type": "execute_result"
    }
   ],
   "source": [
    "from sklearn.metrics import recall_score\n",
    "recall_score(y_test, predicted, average=None)# Precision"
   ]
  },
  {
   "cell_type": "code",
   "execution_count": 23,
   "metadata": {},
   "outputs": [
    {
     "data": {
      "text/plain": [
       "array([0.6533459 , 0.79711161])"
      ]
     },
     "execution_count": 23,
     "metadata": {},
     "output_type": "execute_result"
    }
   ],
   "source": [
    "from sklearn.metrics import precision_score\n",
    "precision_score(y_test, predicted, average=None)"
   ]
  },
  {
   "cell_type": "code",
   "execution_count": 24,
   "metadata": {},
   "outputs": [
    {
     "name": "stdout",
     "output_type": "stream",
     "text": [
      "              precision    recall  f1-score   support\n",
      "\n",
      "       Vazia       0.65      0.71      0.68      4913\n",
      "       Cheia       0.80      0.76      0.78      7524\n",
      "\n",
      "    accuracy                           0.74     12437\n",
      "   macro avg       0.73      0.73      0.73     12437\n",
      "weighted avg       0.74      0.74      0.74     12437\n",
      "\n"
     ]
    }
   ],
   "source": [
    "from sklearn.metrics import classification_report\n",
    "target = ['Vazia', 'Cheia']\n",
    "print(classification_report(y_test, predicted, target_names=target))"
   ]
  },
  {
   "cell_type": "markdown",
   "metadata": {},
   "source": [
    "### segunda possibildiade Naive Bayes"
   ]
  },
  {
   "cell_type": "code",
   "execution_count": 25,
   "metadata": {},
   "outputs": [],
   "source": [
    "from sklearn.naive_bayes import MultinomialNB"
   ]
  },
  {
   "cell_type": "code",
   "execution_count": 27,
   "metadata": {},
   "outputs": [
    {
     "name": "stdout",
     "output_type": "stream",
     "text": [
      "Acurácia: 0.7005708772211948\n"
     ]
    }
   ],
   "source": [
    "modelo = MultinomialNB()\n",
    "modelo.fit(X_train, y_train)\n",
    "resultado = modelo.score(X_test, y_test)\n",
    "print(f'Acurácia: {resultado}')"
   ]
  },
  {
   "cell_type": "code",
   "execution_count": 28,
   "metadata": {},
   "outputs": [
    {
     "name": "stdout",
     "output_type": "stream",
     "text": [
      "['Cheia' 'Vazia' 'Cheia' ... 'Cheia' 'Vazia' 'Cheia']\n"
     ]
    }
   ],
   "source": [
    "predicted= modelo.predict(X_test)\n",
    "print(predicted)"
   ]
  },
  {
   "cell_type": "code",
   "execution_count": 29,
   "metadata": {},
   "outputs": [
    {
     "name": "stdout",
     "output_type": "stream",
     "text": [
      "[[3189 1724]\n",
      " [2000 5524]]\n"
     ]
    }
   ],
   "source": [
    "from sklearn.metrics import confusion_matrix\n",
    "print(confusion_matrix(y_test, predicted))# Accuracy"
   ]
  },
  {
   "cell_type": "code",
   "execution_count": 30,
   "metadata": {},
   "outputs": [
    {
     "name": "stdout",
     "output_type": "stream",
     "text": [
      "              precision    recall  f1-score   support\n",
      "\n",
      "       Vazia       0.61      0.65      0.63      4913\n",
      "       Cheia       0.76      0.73      0.75      7524\n",
      "\n",
      "    accuracy                           0.70     12437\n",
      "   macro avg       0.69      0.69      0.69     12437\n",
      "weighted avg       0.70      0.70      0.70     12437\n",
      "\n"
     ]
    }
   ],
   "source": [
    "from sklearn.metrics import classification_report\n",
    "target = ['Vazia', 'Cheia']\n",
    "print(classification_report(y_test, predicted, target_names=target))"
   ]
  }
 ],
 "metadata": {
  "kernelspec": {
   "display_name": "Python 3",
   "language": "python",
   "name": "python3"
  },
  "language_info": {
   "codemirror_mode": {
    "name": "ipython",
    "version": 3
   },
   "file_extension": ".py",
   "mimetype": "text/x-python",
   "name": "python",
   "nbconvert_exporter": "python",
   "pygments_lexer": "ipython3",
   "version": "3.8.5"
  }
 },
 "nbformat": 4,
 "nbformat_minor": 4
}
